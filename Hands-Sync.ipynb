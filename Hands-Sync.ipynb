{
 "cells": [
  {
   "cell_type": "code",
   "execution_count": 11,
   "metadata": {},
   "outputs": [],
   "source": [
    "import cv2\n",
    "import pandas as pd\n",
    "from pandas import Series, DataFrame\n",
    "import numpy as np\n",
    "import os               \n",
    "from random import shuffle\n",
    "from tqdm import tqdm \n",
    "import matplotlib.pyplot as plt\n",
    "import warnings\n",
    "warnings.filterwarnings('ignore')\n",
    "import os\n",
    "import random\n",
    "import seaborn as sns\n",
    "import time\n",
    "#models\n",
    "from sklearn.model_selection import train_test_split\n",
    "from sklearn.decomposition import PCA\n",
    "from sklearn.linear_model import LogisticRegression\n",
    "from sklearn.neighbors import  KNeighborsClassifier\n",
    "from sklearn.naive_bayes import GaussianNB\n",
    "from sklearn.ensemble import VotingClassifier\n",
    "from sklearn.ensemble import AdaBoostClassifier\n",
    "from xgboost.sklearn import XGBClassifier\n",
    "from sklearn.ensemble import GradientBoostingClassifier\n",
    "from sklearn.tree import DecisionTreeClassifier\n",
    "from sklearn.datasets import make_classification\n",
    "from sklearn.ensemble import RandomForestClassifier\n",
    "from sklearn.ensemble import BaggingClassifier\n",
    "from sklearn.ensemble import StackingClassifier\n",
    "from sklearn.preprocessing import StandardScaler\n",
    "from sklearn.pipeline import Pipeline\n",
    "from sklearn.decomposition import PCA\n",
    "#scores\n",
    "from sklearn.metrics import recall_score, confusion_matrix, precision_score, f1_score, accuracy_score, classification_report\n",
    "from sklearn.metrics import accuracy_score\n",
    "from sklearn.model_selection import cross_val_score\n",
    "from sklearn import metrics\n",
    "from sklearn.metrics import confusion_matrix\n",
    "\n",
    "import glob"
   ]
  },
  {
   "cell_type": "markdown",
   "metadata": {},
   "source": [
    "## Data assembling and Visualization"
   ]
  },
  {
   "cell_type": "markdown",
   "metadata": {},
   "source": [
    "As written in the assaignment we will take out the first 7 seconds of each instance using iloc when building our data frame.We will then build the data sets of each of the three states -  alone sync and Spontan. The data is uneven therefore we will need to even out the hands, we will do so by deleting any of the #hands column that doesn't have 2 hands. After we have cleaned out and evened the data for the three states we will will combine the left and right to the same column.<br> Then we combine the data of Right_hand and Alone . <br>Finally We combine those datasets and achieve our fully ready and prepared dataset. \n",
    "<br> Note: Alot of this code was taken from A notebook on github of A student 2 years ago and I modified it."
   ]
  },
  {
   "cell_type": "code",
   "execution_count": 2,
   "metadata": {},
   "outputs": [],
   "source": [
    "warnings.filterwarnings(\"ignore\")\n",
    "\n",
    "def dfbuilder(files):\n",
    "    final=pd.DataFrame(columns=['Time_x', 'Experiment_x', ' Hand Type_x', ' # hands_x', ' Position X_x',\n",
    "       ' Position Y_x', ' Position Z_x', ' Velocity X_x', ' Velocity Y_x',\n",
    "       ' Velocity Z_x', ' Pitch_x', ' Roll_x', ' Yaw_x', ' Wrist Pos X_x',\n",
    "       ' Wrist Pos Y_x', ' Wrist Pos Z_x', ' Elbow pos X_x', ' Elbow Pos Y_x',\n",
    "       ' Elbow Pos Z_x', ' Grab Strenth_x', ' Grab Angle_x',' Pinch Strength_x', \n",
    "       'Time_y', 'Experiment_y',\n",
    "       ' Hand Type_y', ' # hands_y', ' Position X_y', ' Position Y_y',\n",
    "       ' Position Z_y', ' Velocity X_y', ' Velocity Y_y', ' Velocity Z_y',\n",
    "       ' Pitch_y', ' Roll_y', ' Yaw_y', ' Wrist Pos X_y', ' Wrist Pos Y_y',\n",
    "       ' Wrist Pos Z_y', ' Elbow pos X_y', ' Elbow Pos Y_y', ' Elbow Pos Z_y',\n",
    "       ' Grab Strenth_y', ' Grab Angle_y', ' Pinch Strength_y'])\n",
    "    for file in files:\n",
    "        temp=pd.read_csv(file)\n",
    "        temp=temp.iloc[700:]\n",
    "        temp[\" Hand Type\"]=Series([1 if i==\"right\" else 2 for i in temp[\" Hand Type\"]])\n",
    "        if str.__contains__(file,\"Alone\"):  \n",
    "            temp.insert(loc=1, column='Experiment', value=\"1\")\n",
    "            temp=temp.drop(' Frame ID',axis=1)\n",
    "            Handright=pd.read_csv('HandRight.csv')\n",
    "            Handright[\" Hand Type\"]=Series([1 if i==\"right\" else 2 for i in Handright[\" Hand Type\"]])\n",
    "            Handright.insert(loc=1, column='Experiment', value=\"1\")\n",
    "            Handright = Handright.iloc[:len(temp)-1]\n",
    "            Handright = Handright.reset_index(drop=True)\n",
    "            Handright=Handright.drop(' Frame ID',axis=1)\n",
    "            temp = temp.reset_index(drop=True)\n",
    "            temp = pd.merge(temp, Handright, left_index=True, right_index=True)\n",
    "        else:\n",
    "            if str.__contains__(file,\"Sync\"):\n",
    "                temp.insert(loc=1, column='Experiment', value=\"2\")\n",
    "            if str.__contains__(file,\"Spontan\"):\n",
    "                temp.insert(loc=1, column='Experiment', value=\"3\") \n",
    "            dfright=temp[temp[\" Hand Type\"]==1]\n",
    "            dfleft=temp[temp[\" Hand Type\"]==2]\n",
    "            dfright.set_index(' Frame ID',inplace=True)\n",
    "            dfleft.set_index(' Frame ID',inplace=True)\n",
    "            temp=pd.merge(dfleft, dfright, how='left',on=' Frame ID') \n",
    "        final=pd.concat([final,temp])\n",
    "        \n",
    "    final=final.drop([\"Experiment_y\"],axis=1) \n",
    "    final=final.dropna()\n",
    "    final[final.index%20==2]\n",
    "    final.sort_index(inplace=True)\n",
    "    return final"
   ]
  },
  {
   "cell_type": "code",
   "execution_count": 3,
   "metadata": {},
   "outputs": [
    {
     "data": {
      "text/html": [
       "<div>\n",
       "<style scoped>\n",
       "    .dataframe tbody tr th:only-of-type {\n",
       "        vertical-align: middle;\n",
       "    }\n",
       "\n",
       "    .dataframe tbody tr th {\n",
       "        vertical-align: top;\n",
       "    }\n",
       "\n",
       "    .dataframe thead th {\n",
       "        text-align: right;\n",
       "    }\n",
       "</style>\n",
       "<table border=\"1\" class=\"dataframe\">\n",
       "  <thead>\n",
       "    <tr style=\"text-align: right;\">\n",
       "      <th></th>\n",
       "      <th>Time_x</th>\n",
       "      <th>Experiment_x</th>\n",
       "      <th>Hand Type_x</th>\n",
       "      <th># hands_x</th>\n",
       "      <th>Position X_x</th>\n",
       "      <th>Position Y_x</th>\n",
       "      <th>Position Z_x</th>\n",
       "      <th>Velocity X_x</th>\n",
       "      <th>Velocity Y_x</th>\n",
       "      <th>Velocity Z_x</th>\n",
       "      <th>...</th>\n",
       "      <th>Yaw_y</th>\n",
       "      <th>Wrist Pos X_y</th>\n",
       "      <th>Wrist Pos Y_y</th>\n",
       "      <th>Wrist Pos Z_y</th>\n",
       "      <th>Elbow pos X_y</th>\n",
       "      <th>Elbow Pos Y_y</th>\n",
       "      <th>Elbow Pos Z_y</th>\n",
       "      <th>Grab Strenth_y</th>\n",
       "      <th>Grab Angle_y</th>\n",
       "      <th>Pinch Strength_y</th>\n",
       "    </tr>\n",
       "  </thead>\n",
       "  <tbody>\n",
       "    <tr>\n",
       "      <th>0</th>\n",
       "      <td>507.6639</td>\n",
       "      <td>1</td>\n",
       "      <td>2.0</td>\n",
       "      <td>1</td>\n",
       "      <td>-54.173900</td>\n",
       "      <td>404.6508</td>\n",
       "      <td>102.53100</td>\n",
       "      <td>-46.375400</td>\n",
       "      <td>-141.2727</td>\n",
       "      <td>-30.21356</td>\n",
       "      <td>...</td>\n",
       "      <td>-0.2778</td>\n",
       "      <td>46.88831</td>\n",
       "      <td>207.3548</td>\n",
       "      <td>86.23589</td>\n",
       "      <td>203.8337</td>\n",
       "      <td>49.33507</td>\n",
       "      <td>237.4553</td>\n",
       "      <td>0.0</td>\n",
       "      <td>0.206389</td>\n",
       "      <td>0.0</td>\n",
       "    </tr>\n",
       "    <tr>\n",
       "      <th>0</th>\n",
       "      <td>300.3558</td>\n",
       "      <td>1</td>\n",
       "      <td>2.0</td>\n",
       "      <td>1</td>\n",
       "      <td>0.483595</td>\n",
       "      <td>263.7752</td>\n",
       "      <td>48.87287</td>\n",
       "      <td>-73.144260</td>\n",
       "      <td>247.4470</td>\n",
       "      <td>-70.95473</td>\n",
       "      <td>...</td>\n",
       "      <td>-0.2778</td>\n",
       "      <td>46.88831</td>\n",
       "      <td>207.3548</td>\n",
       "      <td>86.23589</td>\n",
       "      <td>203.8337</td>\n",
       "      <td>49.33507</td>\n",
       "      <td>237.4553</td>\n",
       "      <td>0.0</td>\n",
       "      <td>0.206389</td>\n",
       "      <td>0.0</td>\n",
       "    </tr>\n",
       "    <tr>\n",
       "      <th>0</th>\n",
       "      <td>465.7203</td>\n",
       "      <td>1</td>\n",
       "      <td>2.0</td>\n",
       "      <td>1</td>\n",
       "      <td>-20.202960</td>\n",
       "      <td>196.3637</td>\n",
       "      <td>27.31069</td>\n",
       "      <td>-1.707349</td>\n",
       "      <td>180.4482</td>\n",
       "      <td>39.11984</td>\n",
       "      <td>...</td>\n",
       "      <td>-0.2778</td>\n",
       "      <td>46.88831</td>\n",
       "      <td>207.3548</td>\n",
       "      <td>86.23589</td>\n",
       "      <td>203.8337</td>\n",
       "      <td>49.33507</td>\n",
       "      <td>237.4553</td>\n",
       "      <td>0.0</td>\n",
       "      <td>0.206389</td>\n",
       "      <td>0.0</td>\n",
       "    </tr>\n",
       "    <tr>\n",
       "      <th>0</th>\n",
       "      <td>399.2171</td>\n",
       "      <td>1</td>\n",
       "      <td>2.0</td>\n",
       "      <td>1</td>\n",
       "      <td>-168.143600</td>\n",
       "      <td>213.8697</td>\n",
       "      <td>-117.56460</td>\n",
       "      <td>-78.960600</td>\n",
       "      <td>149.8754</td>\n",
       "      <td>-29.06095</td>\n",
       "      <td>...</td>\n",
       "      <td>-0.2778</td>\n",
       "      <td>46.88831</td>\n",
       "      <td>207.3548</td>\n",
       "      <td>86.23589</td>\n",
       "      <td>203.8337</td>\n",
       "      <td>49.33507</td>\n",
       "      <td>237.4553</td>\n",
       "      <td>0.0</td>\n",
       "      <td>0.206389</td>\n",
       "      <td>0.0</td>\n",
       "    </tr>\n",
       "    <tr>\n",
       "      <th>0</th>\n",
       "      <td>573.0565</td>\n",
       "      <td>1</td>\n",
       "      <td>2.0</td>\n",
       "      <td>1</td>\n",
       "      <td>-90.512630</td>\n",
       "      <td>170.7388</td>\n",
       "      <td>-30.87672</td>\n",
       "      <td>-449.169100</td>\n",
       "      <td>182.5208</td>\n",
       "      <td>237.29880</td>\n",
       "      <td>...</td>\n",
       "      <td>-0.2778</td>\n",
       "      <td>46.88831</td>\n",
       "      <td>207.3548</td>\n",
       "      <td>86.23589</td>\n",
       "      <td>203.8337</td>\n",
       "      <td>49.33507</td>\n",
       "      <td>237.4553</td>\n",
       "      <td>0.0</td>\n",
       "      <td>0.206389</td>\n",
       "      <td>0.0</td>\n",
       "    </tr>\n",
       "  </tbody>\n",
       "</table>\n",
       "<p>5 rows × 43 columns</p>\n",
       "</div>"
      ],
      "text/plain": [
       "     Time_x Experiment_x   Hand Type_x  # hands_x   Position X_x  \\\n",
       "0  507.6639            1           2.0          1     -54.173900   \n",
       "0  300.3558            1           2.0          1       0.483595   \n",
       "0  465.7203            1           2.0          1     -20.202960   \n",
       "0  399.2171            1           2.0          1    -168.143600   \n",
       "0  573.0565            1           2.0          1     -90.512630   \n",
       "\n",
       "    Position Y_x   Position Z_x   Velocity X_x   Velocity Y_x   Velocity Z_x  \\\n",
       "0       404.6508      102.53100     -46.375400      -141.2727      -30.21356   \n",
       "0       263.7752       48.87287     -73.144260       247.4470      -70.95473   \n",
       "0       196.3637       27.31069      -1.707349       180.4482       39.11984   \n",
       "0       213.8697     -117.56460     -78.960600       149.8754      -29.06095   \n",
       "0       170.7388      -30.87672    -449.169100       182.5208      237.29880   \n",
       "\n",
       "   ...   Yaw_y   Wrist Pos X_y   Wrist Pos Y_y   Wrist Pos Z_y  \\\n",
       "0  ... -0.2778        46.88831        207.3548        86.23589   \n",
       "0  ... -0.2778        46.88831        207.3548        86.23589   \n",
       "0  ... -0.2778        46.88831        207.3548        86.23589   \n",
       "0  ... -0.2778        46.88831        207.3548        86.23589   \n",
       "0  ... -0.2778        46.88831        207.3548        86.23589   \n",
       "\n",
       "    Elbow pos X_y   Elbow Pos Y_y   Elbow Pos Z_y   Grab Strenth_y  \\\n",
       "0        203.8337        49.33507        237.4553              0.0   \n",
       "0        203.8337        49.33507        237.4553              0.0   \n",
       "0        203.8337        49.33507        237.4553              0.0   \n",
       "0        203.8337        49.33507        237.4553              0.0   \n",
       "0        203.8337        49.33507        237.4553              0.0   \n",
       "\n",
       "    Grab Angle_y   Pinch Strength_y  \n",
       "0       0.206389                0.0  \n",
       "0       0.206389                0.0  \n",
       "0       0.206389                0.0  \n",
       "0       0.206389                0.0  \n",
       "0       0.206389                0.0  \n",
       "\n",
       "[5 rows x 43 columns]"
      ]
     },
     "execution_count": 3,
     "metadata": {},
     "output_type": "execute_result"
    }
   ],
   "source": [
    "test= dfbuilder(glob.glob('Validation/**/*.csv', recursive=True))\n",
    "df= dfbuilder(glob.glob('Training/**/*.csv', recursive=True))\n",
    "#train=train.sort_values(by=['Frame ID_x'])\n",
    "df.head()"
   ]
  },
  {
   "cell_type": "code",
   "execution_count": 30,
   "metadata": {},
   "outputs": [
    {
     "data": {
      "image/png": "[encoded data removed]",
      "text/plain": [
       "<Figure size 864x720 with 3 Axes>"
      ]
     },
     "metadata": {
      "needs_background": "light"
     },
     "output_type": "display_data"
    }
   ],
   "source": [
    "df1 = df.drop('Experiment_x',axis=1)\n",
    "fig = plt.figure(figsize=(12, 10))\n",
    "Type = ['Sync', 'Spontan','Alone']\n",
    "count = 1\n",
    "for t in Type:\n",
    "    ax = fig.add_subplot(2, 2, count, projection='3d')\n",
    "    count+=1\n",
    "    ax.title.set_text(t)\n",
    "    plt.gca().legend(('left','right'))\n",
    "    ax.scatter(df1[' Position X_x'], df1[' Position Y_x'], df1[' Position Z_x' ], color='cyan',s=60, label='right hand')\n",
    "    ax.scatter(df1[' Position X_y'], df1[' Position Y_y'], df1[' Position Z_y'],color='orange',s=60, label='left hand')\n",
    "    plt.legend()\n",
    "    ax.set_xlabel('Position X')\n",
    "    ax.set_ylabel('Position Y')\n",
    "    ax.set_zlabel('Position Z')"
   ]
  },
  {
   "cell_type": "code",
   "execution_count": null,
   "metadata": {},
   "outputs": [],
   "source": []
  },
  {
   "cell_type": "markdown",
   "metadata": {},
   "source": [
    "## Data split and Preprocessing"
   ]
  },
  {
   "cell_type": "markdown",
   "metadata": {},
   "source": [
    "After visualizing and understanding are data we will clean it. Lets check if there is any null values and then drop the columns which we understand are needed to drop"
   ]
  },
  {
   "cell_type": "code",
   "execution_count": 31,
   "metadata": {},
   "outputs": [
    {
     "data": {
      "text/plain": [
       "(88369, 37)"
      ]
     },
     "execution_count": 31,
     "metadata": {},
     "output_type": "execute_result"
    }
   ],
   "source": [
    "df.shape"
   ]
  },
  {
   "cell_type": "code",
   "execution_count": 32,
   "metadata": {},
   "outputs": [
    {
     "data": {
      "text/plain": [
       "Experiment_x         0\n",
       " Position X_x        0\n",
       " Position Y_x        0\n",
       " Position Z_x        0\n",
       " Velocity X_x        0\n",
       " Velocity Y_x        0\n",
       " Velocity Z_x        0\n",
       " Pitch_x             0\n",
       " Roll_x              0\n",
       " Yaw_x               0\n",
       " Wrist Pos X_x       0\n",
       " Wrist Pos Y_x       0\n",
       " Wrist Pos Z_x       0\n",
       " Elbow pos X_x       0\n",
       " Elbow Pos Y_x       0\n",
       " Elbow Pos Z_x       0\n",
       " Grab Strenth_x      0\n",
       " Grab Angle_x        0\n",
       " Pinch Strength_x    0\n",
       " Position X_y        0\n",
       " Position Y_y        0\n",
       " Position Z_y        0\n",
       " Velocity X_y        0\n",
       " Velocity Y_y        0\n",
       " Velocity Z_y        0\n",
       " Pitch_y             0\n",
       " Roll_y              0\n",
       " Yaw_y               0\n",
       " Wrist Pos X_y       0\n",
       " Wrist Pos Y_y       0\n",
       " Wrist Pos Z_y       0\n",
       " Elbow pos X_y       0\n",
       " Elbow Pos Y_y       0\n",
       " Elbow Pos Z_y       0\n",
       " Grab Strenth_y      0\n",
       " Grab Angle_y        0\n",
       " Pinch Strength_y    0\n",
       "dtype: int64"
      ]
     },
     "execution_count": 32,
     "metadata": {},
     "output_type": "execute_result"
    }
   ],
   "source": [
    "df.isnull().sum()"
   ]
  },
  {
   "cell_type": "markdown",
   "metadata": {},
   "source": [
    "We will drop the following values. The reason for which we are doing this is because we are trying to build A model that will  determine in which stage the hands are at that given point.And build the best model that will classify just that.<br> Time, hand type and hands as we understood from the data will not help with our goal and are not helpful parameters . The reason being is that they don't deal with understanding the position of the hand at that given moment. Thus we will drop those values and achieve A better more accurate model."
   ]
  },
  {
   "cell_type": "code",
   "execution_count": 13,
   "metadata": {},
   "outputs": [],
   "source": [
    "df.drop(['Time_x',' Hand Type_x',' # hands_x','Time_y', ' Hand Type_y', ' # hands_y'],axis = 1, inplace = True)\n",
    "test.drop(['Time_x',' Hand Type_x',' # hands_x','Time_y', ' Hand Type_y', ' # hands_y'],axis = 1, inplace = True)"
   ]
  },
  {
   "cell_type": "code",
   "execution_count": 14,
   "metadata": {},
   "outputs": [],
   "source": [
    "X= df.drop(['Experiment_x'],axis=1)\n",
    "y=df['Experiment_x']"
   ]
  },
  {
   "cell_type": "code",
   "execution_count": 15,
   "metadata": {},
   "outputs": [
    {
     "name": "stdout",
     "output_type": "stream",
     "text": [
      " Shape of x_train =  (61858, 36)\n",
      " Shape of x_test =  (26511, 36)\n",
      " Shape of y_train =  (61858,)\n",
      " Shape of y_test =  (26511,)\n"
     ]
    }
   ],
   "source": [
    "X_train, X_test, y_train, y_test = train_test_split(X, y, test_size=0.3, random_state=120)\n",
    "print(\" Shape of x_train = \", X_train.shape)\n",
    "print(\" Shape of x_test = \", X_test.shape)\n",
    "print(\" Shape of y_train = \", y_train.shape)\n",
    "print(\" Shape of y_test = \", y_test.shape)"
   ]
  },
  {
   "cell_type": "code",
   "execution_count": 16,
   "metadata": {},
   "outputs": [],
   "source": [
    "scale_pipeline = Pipeline([\n",
    " (\"std_scaler\", StandardScaler()),\n",
    " (\"pca\", PCA(n_components=0.99, random_state=0,svd_solver='full')),\n",
    "])\n",
    "x_train_reduced = scale_pipeline.fit_transform(X_train)\n",
    "x_test_reduced = scale_pipeline.transform(X_test)"
   ]
  },
  {
   "cell_type": "markdown",
   "metadata": {},
   "source": [
    "## It's time to start training models!\n",
    "<br>\n",
    "<br>note: We will print out classification reports only for our strongest models."
   ]
  },
  {
   "cell_type": "markdown",
   "metadata": {},
   "source": [
    "### <font color='orange'> Knn Classifier"
   ]
  },
  {
   "cell_type": "code",
   "execution_count": 17,
   "metadata": {},
   "outputs": [
    {
     "data": {
      "text/plain": [
       "0.9966806231375656"
      ]
     },
     "execution_count": 17,
     "metadata": {},
     "output_type": "execute_result"
    }
   ],
   "source": [
    "knn_clf =  KNeighborsClassifier(n_neighbors=10,weights='distance',n_jobs=-1)\n",
    "\n",
    "knn_clf.fit(x_train_reduced,y_train)\n",
    "knn_clf.score(x_test_reduced,y_test)"
   ]
  },
  {
   "cell_type": "code",
   "execution_count": 18,
   "metadata": {},
   "outputs": [
    {
     "data": {
      "text/plain": [
       "0.9962009803441154"
      ]
     },
     "execution_count": 18,
     "metadata": {},
     "output_type": "execute_result"
    }
   ],
   "source": [
    "from sklearn.model_selection import cross_val_score\n",
    "\n",
    "knn_scores = cross_val_score(knn_clf, x_train_reduced, y_train, cv=5)\n",
    "knn_scores.mean()"
   ]
  },
  {
   "cell_type": "markdown",
   "metadata": {},
   "source": [
    "We can see that we scored just about the same with cross validation meaning are model is a great model and is not overfitting.\n",
    "<br>\n",
    "\n",
    "We will run a type of gridsearch inorder to find the optimal number of neighbors."
   ]
  },
  {
   "cell_type": "code",
   "execution_count": 25,
   "metadata": {
    "scrolled": true
   },
   "outputs": [
    {
     "data": {
      "image/png": "[encoded data removed]",
      "text/plain": [
       "<Figure size 432x288 with 1 Axes>"
      ]
     },
     "metadata": {
      "needs_background": "light"
     },
     "output_type": "display_data"
    }
   ],
   "source": [
    "score_array = []\n",
    "for each in range(1,50):\n",
    "    knn_loop = KNeighborsClassifier(n_neighbors = each)\n",
    "    knn_loop.fit(x_train_reduced,y_train)\n",
    "    score_array.append(knn_loop.score(x_test_reduced,y_test))\n",
    "    \n",
    "plt.plot(range(1,50),score_array)\n",
    "plt.xlabel(\"Range\")\n",
    "plt.ylabel(\"Score\")\n",
    "plt.show()"
   ]
  },
  {
   "cell_type": "markdown",
   "metadata": {},
   "source": [
    "### <font color='orange'> Logistic Regression"
   ]
  },
  {
   "cell_type": "code",
   "execution_count": 34,
   "metadata": {},
   "outputs": [
    {
     "data": {
      "text/plain": [
       "0.8426313605673117"
      ]
     },
     "execution_count": 34,
     "metadata": {},
     "output_type": "execute_result"
    }
   ],
   "source": [
    "log_reg = LogisticRegression(random_state=42,solver='liblinear',n_jobs=-1)\n",
    "log_reg.fit(x_train_reduced, y_train)\n",
    "log_reg.score(x_test_reduced, y_test)"
   ]
  },
  {
   "cell_type": "markdown",
   "metadata": {},
   "source": [
    "### <font color='orange'> Gaussian  Classifier"
   ]
  },
  {
   "cell_type": "code",
   "execution_count": 21,
   "metadata": {},
   "outputs": [
    {
     "data": {
      "text/plain": [
       "0.8792152234842897"
      ]
     },
     "execution_count": 21,
     "metadata": {},
     "output_type": "execute_result"
    }
   ],
   "source": [
    "gnb_clf =  GaussianNB()\n",
    "\n",
    "gnb_clf.fit(x_train_reduced,y_train)\n",
    "gnb_clf.score(x_test_reduced,y_test)"
   ]
  },
  {
   "cell_type": "markdown",
   "metadata": {},
   "source": [
    "# Ensemble methods"
   ]
  },
  {
   "cell_type": "markdown",
   "metadata": {},
   "source": [
    "### <font color='orange'> Random Forest Classifier"
   ]
  },
  {
   "cell_type": "code",
   "execution_count": 35,
   "metadata": {},
   "outputs": [
    {
     "data": {
      "text/plain": [
       "0.9916261174606767"
      ]
     },
     "execution_count": 35,
     "metadata": {},
     "output_type": "execute_result"
    }
   ],
   "source": [
    "model_rf = RandomForestClassifier(criterion ='entropy' ,max_features='sqrt' , min_samples_leaf=4, min_samples_split=3,n_estimators=250 , n_jobs = -1, random_state =42, \n",
    "                                  max_depth=50)\n",
    "model_rf.fit(x_train_reduced, y_train)\n",
    "prediction_test = model_rf.predict(x_test_reduced)\n",
    "(metrics.accuracy_score(y_test, prediction_test))"
   ]
  },
  {
   "cell_type": "markdown",
   "metadata": {},
   "source": [
    "### <font color='orange'> AdaBoost"
   ]
  },
  {
   "cell_type": "code",
   "execution_count": 23,
   "metadata": {},
   "outputs": [
    {
     "data": {
      "text/plain": [
       "0.8959433544770615"
      ]
     },
     "execution_count": 23,
     "metadata": {},
     "output_type": "execute_result"
    }
   ],
   "source": [
    "ada_clf = AdaBoostClassifier(\n",
    " DecisionTreeClassifier(max_depth=3), n_estimators=150,\n",
    " algorithm=\"SAMME.R\", learning_rate=0.5)\n",
    "ada_clf.fit(x_train_reduced, y_train)\n",
    "prediction_test = ada_clf.predict(x_test_reduced)\n",
    "(metrics.accuracy_score(y_test, prediction_test))"
   ]
  },
  {
   "cell_type": "markdown",
   "metadata": {},
   "source": [
    "### <font color='orange'> GradientBoostingClassifier"
   ]
  },
  {
   "cell_type": "code",
   "execution_count": 32,
   "metadata": {},
   "outputs": [
    {
     "data": {
      "text/plain": [
       "0.933353001917687"
      ]
     },
     "execution_count": 32,
     "metadata": {},
     "output_type": "execute_result"
    }
   ],
   "source": [
    "grd_clf = GradientBoostingClassifier(max_depth=4, n_estimators=20, learning_rate=0.15, subsample=0.7)\n",
    "grd_clf.fit(x_train_reduced, y_train)\n",
    "prediction_test = grd_clf.predict(x_test_reduced)\n",
    "(metrics.accuracy_score(y_test, prediction_test))"
   ]
  },
  {
   "cell_type": "markdown",
   "metadata": {},
   "source": [
    "### <font color='orange'> XGBoost"
   ]
  },
  {
   "cell_type": "code",
   "execution_count": 42,
   "metadata": {},
   "outputs": [
    {
     "name": "stdout",
     "output_type": "stream",
     "text": [
      "[21:59:17] WARNING: ..\\src\\learner.cc:1095: Starting in XGBoost 1.3.0, the default evaluation metric used with the objective 'multi:softprob' was changed from 'merror' to 'mlogloss'. Explicitly set eval_metric if you'd like to restore the old behavior.\n"
     ]
    },
    {
     "data": {
      "text/plain": [
       "0.9953604164309154"
      ]
     },
     "execution_count": 42,
     "metadata": {},
     "output_type": "execute_result"
    }
   ],
   "source": [
    "xg_boost = XGBClassifier(n_estimators = 150, n_jobs = -1)\n",
    "xg_boost.fit(x_train_reduced,y_train)\n",
    "xg_boost.score(x_test_reduced, y_test)"
   ]
  },
  {
   "cell_type": "code",
   "execution_count": 61,
   "metadata": {},
   "outputs": [
    {
     "name": "stdout",
     "output_type": "stream",
     "text": [
      "Fitting 5 folds for each of 5 candidates, totalling 25 fits\n"
     ]
    },
    {
     "name": "stderr",
     "output_type": "stream",
     "text": [
      "[Parallel(n_jobs=-1)]: Using backend LokyBackend with 8 concurrent workers.\n",
      "[Parallel(n_jobs=-1)]: Done  12 out of  20 | elapsed:  1.7min remaining:  1.1min\n"
     ]
    },
    {
     "ename": "ValueError",
     "evalue": "multiclass format is not supported",
     "output_type": "error",
     "traceback": [
      "\u001b[1;31m---------------------------------------------------------------------------\u001b[0m",
      "\u001b[1;31m_RemoteTraceback\u001b[0m                          Traceback (most recent call last)",
      "\u001b[1;31m_RemoteTraceback\u001b[0m: \n\"\"\"\nTraceback (most recent call last):\n  File \"C:\\Users\\shaul\\anaconda3\\lib\\site-packages\\joblib\\externals\\loky\\process_executor.py\", line 431, in _process_worker\n    r = call_item()\n  File \"C:\\Users\\shaul\\anaconda3\\lib\\site-packages\\joblib\\externals\\loky\\process_executor.py\", line 285, in __call__\n    return self.fn(*self.args, **self.kwargs)\n  File \"C:\\Users\\shaul\\anaconda3\\lib\\site-packages\\joblib\\_parallel_backends.py\", line 595, in __call__\n    return self.func(*args, **kwargs)\n  File \"C:\\Users\\shaul\\anaconda3\\lib\\site-packages\\joblib\\parallel.py\", line 252, in __call__\n    return [func(*args, **kwargs)\n  File \"C:\\Users\\shaul\\anaconda3\\lib\\site-packages\\joblib\\parallel.py\", line 252, in <listcomp>\n    return [func(*args, **kwargs)\n  File \"C:\\Users\\shaul\\anaconda3\\lib\\site-packages\\sklearn\\model_selection\\_validation.py\", line 560, in _fit_and_score\n    test_scores = _score(estimator, X_test, y_test, scorer)\n  File \"C:\\Users\\shaul\\anaconda3\\lib\\site-packages\\sklearn\\model_selection\\_validation.py\", line 607, in _score\n    scores = scorer(estimator, X_test, y_test)\n  File \"C:\\Users\\shaul\\anaconda3\\lib\\site-packages\\sklearn\\metrics\\_scorer.py\", line 87, in __call__\n    score = scorer._score(cached_call, estimator,\n  File \"C:\\Users\\shaul\\anaconda3\\lib\\site-packages\\sklearn\\metrics\\_scorer.py\", line 301, in _score\n    raise ValueError(\"{0} format is not supported\".format(y_type))\nValueError: multiclass format is not supported\n\"\"\"",
      "\nThe above exception was the direct cause of the following exception:\n",
      "\u001b[1;31mValueError\u001b[0m                                Traceback (most recent call last)",
      "\u001b[1;32m<ipython-input-61-293c88962f30>\u001b[0m in \u001b[0;36m<module>\u001b[1;34m\u001b[0m\n\u001b[0;32m      8\u001b[0m }\n\u001b[0;32m      9\u001b[0m \u001b[0mrandom_cv\u001b[0m \u001b[1;33m=\u001b[0m \u001b[0mRandomizedSearchCV\u001b[0m\u001b[1;33m(\u001b[0m\u001b[0mXGBClassifier\u001b[0m\u001b[1;33m(\u001b[0m\u001b[1;33m)\u001b[0m\u001b[1;33m,\u001b[0m \u001b[0mparam_distributions\u001b[0m\u001b[1;33m=\u001b[0m\u001b[0mparams\u001b[0m\u001b[1;33m,\u001b[0m \u001b[0mn_iter\u001b[0m\u001b[1;33m=\u001b[0m\u001b[1;36m5\u001b[0m\u001b[1;33m,\u001b[0m \u001b[0mscoring\u001b[0m\u001b[1;33m=\u001b[0m\u001b[1;34m\"roc_auc\"\u001b[0m\u001b[1;33m,\u001b[0m \u001b[0mn_jobs\u001b[0m\u001b[1;33m=\u001b[0m\u001b[1;33m-\u001b[0m\u001b[1;36m1\u001b[0m\u001b[1;33m,\u001b[0m \u001b[0mcv\u001b[0m\u001b[1;33m=\u001b[0m\u001b[1;36m5\u001b[0m\u001b[1;33m,\u001b[0m \u001b[0mverbose\u001b[0m\u001b[1;33m=\u001b[0m\u001b[1;36m3\u001b[0m\u001b[1;33m)\u001b[0m\u001b[1;33m\u001b[0m\u001b[1;33m\u001b[0m\u001b[0m\n\u001b[1;32m---> 10\u001b[1;33m \u001b[0mrandom_cv\u001b[0m\u001b[1;33m.\u001b[0m\u001b[0mfit\u001b[0m\u001b[1;33m(\u001b[0m\u001b[0mx_train_reduced\u001b[0m\u001b[1;33m,\u001b[0m \u001b[0my_train\u001b[0m\u001b[1;33m)\u001b[0m\u001b[1;33m\u001b[0m\u001b[1;33m\u001b[0m\u001b[0m\n\u001b[0m\u001b[0;32m     11\u001b[0m \u001b[0mrandom_cv\u001b[0m\u001b[1;33m.\u001b[0m\u001b[0mbest_estimator_\u001b[0m\u001b[1;33m\u001b[0m\u001b[1;33m\u001b[0m\u001b[0m\n",
      "\u001b[1;32m~\\anaconda3\\lib\\site-packages\\sklearn\\utils\\validation.py\u001b[0m in \u001b[0;36minner_f\u001b[1;34m(*args, **kwargs)\u001b[0m\n\u001b[0;32m     71\u001b[0m                           FutureWarning)\n\u001b[0;32m     72\u001b[0m         \u001b[0mkwargs\u001b[0m\u001b[1;33m.\u001b[0m\u001b[0mupdate\u001b[0m\u001b[1;33m(\u001b[0m\u001b[1;33m{\u001b[0m\u001b[0mk\u001b[0m\u001b[1;33m:\u001b[0m \u001b[0marg\u001b[0m \u001b[1;32mfor\u001b[0m \u001b[0mk\u001b[0m\u001b[1;33m,\u001b[0m \u001b[0marg\u001b[0m \u001b[1;32min\u001b[0m \u001b[0mzip\u001b[0m\u001b[1;33m(\u001b[0m\u001b[0msig\u001b[0m\u001b[1;33m.\u001b[0m\u001b[0mparameters\u001b[0m\u001b[1;33m,\u001b[0m \u001b[0margs\u001b[0m\u001b[1;33m)\u001b[0m\u001b[1;33m}\u001b[0m\u001b[1;33m)\u001b[0m\u001b[1;33m\u001b[0m\u001b[1;33m\u001b[0m\u001b[0m\n\u001b[1;32m---> 73\u001b[1;33m         \u001b[1;32mreturn\u001b[0m \u001b[0mf\u001b[0m\u001b[1;33m(\u001b[0m\u001b[1;33m**\u001b[0m\u001b[0mkwargs\u001b[0m\u001b[1;33m)\u001b[0m\u001b[1;33m\u001b[0m\u001b[1;33m\u001b[0m\u001b[0m\n\u001b[0m\u001b[0;32m     74\u001b[0m     \u001b[1;32mreturn\u001b[0m \u001b[0minner_f\u001b[0m\u001b[1;33m\u001b[0m\u001b[1;33m\u001b[0m\u001b[0m\n\u001b[0;32m     75\u001b[0m \u001b[1;33m\u001b[0m\u001b[0m\n",
      "\u001b[1;32m~\\anaconda3\\lib\\site-packages\\sklearn\\model_selection\\_search.py\u001b[0m in \u001b[0;36mfit\u001b[1;34m(self, X, y, groups, **fit_params)\u001b[0m\n\u001b[0;32m    734\u001b[0m                 \u001b[1;32mreturn\u001b[0m \u001b[0mresults\u001b[0m\u001b[1;33m\u001b[0m\u001b[1;33m\u001b[0m\u001b[0m\n\u001b[0;32m    735\u001b[0m \u001b[1;33m\u001b[0m\u001b[0m\n\u001b[1;32m--> 736\u001b[1;33m             \u001b[0mself\u001b[0m\u001b[1;33m.\u001b[0m\u001b[0m_run_search\u001b[0m\u001b[1;33m(\u001b[0m\u001b[0mevaluate_candidates\u001b[0m\u001b[1;33m)\u001b[0m\u001b[1;33m\u001b[0m\u001b[1;33m\u001b[0m\u001b[0m\n\u001b[0m\u001b[0;32m    737\u001b[0m \u001b[1;33m\u001b[0m\u001b[0m\n\u001b[0;32m    738\u001b[0m         \u001b[1;31m# For multi-metric evaluation, store the best_index_, best_params_ and\u001b[0m\u001b[1;33m\u001b[0m\u001b[1;33m\u001b[0m\u001b[1;33m\u001b[0m\u001b[0m\n",
      "\u001b[1;32m~\\anaconda3\\lib\\site-packages\\sklearn\\model_selection\\_search.py\u001b[0m in \u001b[0;36m_run_search\u001b[1;34m(self, evaluate_candidates)\u001b[0m\n\u001b[0;32m   1527\u001b[0m     \u001b[1;32mdef\u001b[0m \u001b[0m_run_search\u001b[0m\u001b[1;33m(\u001b[0m\u001b[0mself\u001b[0m\u001b[1;33m,\u001b[0m \u001b[0mevaluate_candidates\u001b[0m\u001b[1;33m)\u001b[0m\u001b[1;33m:\u001b[0m\u001b[1;33m\u001b[0m\u001b[1;33m\u001b[0m\u001b[0m\n\u001b[0;32m   1528\u001b[0m         \u001b[1;34m\"\"\"Search n_iter candidates from param_distributions\"\"\"\u001b[0m\u001b[1;33m\u001b[0m\u001b[1;33m\u001b[0m\u001b[0m\n\u001b[1;32m-> 1529\u001b[1;33m         evaluate_candidates(ParameterSampler(\n\u001b[0m\u001b[0;32m   1530\u001b[0m             \u001b[0mself\u001b[0m\u001b[1;33m.\u001b[0m\u001b[0mparam_distributions\u001b[0m\u001b[1;33m,\u001b[0m \u001b[0mself\u001b[0m\u001b[1;33m.\u001b[0m\u001b[0mn_iter\u001b[0m\u001b[1;33m,\u001b[0m\u001b[1;33m\u001b[0m\u001b[1;33m\u001b[0m\u001b[0m\n\u001b[0;32m   1531\u001b[0m             random_state=self.random_state))\n",
      "\u001b[1;32m~\\anaconda3\\lib\\site-packages\\sklearn\\model_selection\\_search.py\u001b[0m in \u001b[0;36mevaluate_candidates\u001b[1;34m(candidate_params)\u001b[0m\n\u001b[0;32m    706\u001b[0m                               n_splits, n_candidates, n_candidates * n_splits))\n\u001b[0;32m    707\u001b[0m \u001b[1;33m\u001b[0m\u001b[0m\n\u001b[1;32m--> 708\u001b[1;33m                 out = parallel(delayed(_fit_and_score)(clone(base_estimator),\n\u001b[0m\u001b[0;32m    709\u001b[0m                                                        \u001b[0mX\u001b[0m\u001b[1;33m,\u001b[0m \u001b[0my\u001b[0m\u001b[1;33m,\u001b[0m\u001b[1;33m\u001b[0m\u001b[1;33m\u001b[0m\u001b[0m\n\u001b[0;32m    710\u001b[0m                                                        \u001b[0mtrain\u001b[0m\u001b[1;33m=\u001b[0m\u001b[0mtrain\u001b[0m\u001b[1;33m,\u001b[0m \u001b[0mtest\u001b[0m\u001b[1;33m=\u001b[0m\u001b[0mtest\u001b[0m\u001b[1;33m,\u001b[0m\u001b[1;33m\u001b[0m\u001b[1;33m\u001b[0m\u001b[0m\n",
      "\u001b[1;32m~\\anaconda3\\lib\\site-packages\\joblib\\parallel.py\u001b[0m in \u001b[0;36m__call__\u001b[1;34m(self, iterable)\u001b[0m\n\u001b[0;32m   1040\u001b[0m \u001b[1;33m\u001b[0m\u001b[0m\n\u001b[0;32m   1041\u001b[0m             \u001b[1;32mwith\u001b[0m \u001b[0mself\u001b[0m\u001b[1;33m.\u001b[0m\u001b[0m_backend\u001b[0m\u001b[1;33m.\u001b[0m\u001b[0mretrieval_context\u001b[0m\u001b[1;33m(\u001b[0m\u001b[1;33m)\u001b[0m\u001b[1;33m:\u001b[0m\u001b[1;33m\u001b[0m\u001b[1;33m\u001b[0m\u001b[0m\n\u001b[1;32m-> 1042\u001b[1;33m                 \u001b[0mself\u001b[0m\u001b[1;33m.\u001b[0m\u001b[0mretrieve\u001b[0m\u001b[1;33m(\u001b[0m\u001b[1;33m)\u001b[0m\u001b[1;33m\u001b[0m\u001b[1;33m\u001b[0m\u001b[0m\n\u001b[0m\u001b[0;32m   1043\u001b[0m             \u001b[1;31m# Make sure that we get a last message telling us we are done\u001b[0m\u001b[1;33m\u001b[0m\u001b[1;33m\u001b[0m\u001b[1;33m\u001b[0m\u001b[0m\n\u001b[0;32m   1044\u001b[0m             \u001b[0melapsed_time\u001b[0m \u001b[1;33m=\u001b[0m \u001b[0mtime\u001b[0m\u001b[1;33m.\u001b[0m\u001b[0mtime\u001b[0m\u001b[1;33m(\u001b[0m\u001b[1;33m)\u001b[0m \u001b[1;33m-\u001b[0m \u001b[0mself\u001b[0m\u001b[1;33m.\u001b[0m\u001b[0m_start_time\u001b[0m\u001b[1;33m\u001b[0m\u001b[1;33m\u001b[0m\u001b[0m\n",
      "\u001b[1;32m~\\anaconda3\\lib\\site-packages\\joblib\\parallel.py\u001b[0m in \u001b[0;36mretrieve\u001b[1;34m(self)\u001b[0m\n\u001b[0;32m    919\u001b[0m             \u001b[1;32mtry\u001b[0m\u001b[1;33m:\u001b[0m\u001b[1;33m\u001b[0m\u001b[1;33m\u001b[0m\u001b[0m\n\u001b[0;32m    920\u001b[0m                 \u001b[1;32mif\u001b[0m \u001b[0mgetattr\u001b[0m\u001b[1;33m(\u001b[0m\u001b[0mself\u001b[0m\u001b[1;33m.\u001b[0m\u001b[0m_backend\u001b[0m\u001b[1;33m,\u001b[0m \u001b[1;34m'supports_timeout'\u001b[0m\u001b[1;33m,\u001b[0m \u001b[1;32mFalse\u001b[0m\u001b[1;33m)\u001b[0m\u001b[1;33m:\u001b[0m\u001b[1;33m\u001b[0m\u001b[1;33m\u001b[0m\u001b[0m\n\u001b[1;32m--> 921\u001b[1;33m                     \u001b[0mself\u001b[0m\u001b[1;33m.\u001b[0m\u001b[0m_output\u001b[0m\u001b[1;33m.\u001b[0m\u001b[0mextend\u001b[0m\u001b[1;33m(\u001b[0m\u001b[0mjob\u001b[0m\u001b[1;33m.\u001b[0m\u001b[0mget\u001b[0m\u001b[1;33m(\u001b[0m\u001b[0mtimeout\u001b[0m\u001b[1;33m=\u001b[0m\u001b[0mself\u001b[0m\u001b[1;33m.\u001b[0m\u001b[0mtimeout\u001b[0m\u001b[1;33m)\u001b[0m\u001b[1;33m)\u001b[0m\u001b[1;33m\u001b[0m\u001b[1;33m\u001b[0m\u001b[0m\n\u001b[0m\u001b[0;32m    922\u001b[0m                 \u001b[1;32melse\u001b[0m\u001b[1;33m:\u001b[0m\u001b[1;33m\u001b[0m\u001b[1;33m\u001b[0m\u001b[0m\n\u001b[0;32m    923\u001b[0m                     \u001b[0mself\u001b[0m\u001b[1;33m.\u001b[0m\u001b[0m_output\u001b[0m\u001b[1;33m.\u001b[0m\u001b[0mextend\u001b[0m\u001b[1;33m(\u001b[0m\u001b[0mjob\u001b[0m\u001b[1;33m.\u001b[0m\u001b[0mget\u001b[0m\u001b[1;33m(\u001b[0m\u001b[1;33m)\u001b[0m\u001b[1;33m)\u001b[0m\u001b[1;33m\u001b[0m\u001b[1;33m\u001b[0m\u001b[0m\n",
      "\u001b[1;32m~\\anaconda3\\lib\\site-packages\\joblib\\_parallel_backends.py\u001b[0m in \u001b[0;36mwrap_future_result\u001b[1;34m(future, timeout)\u001b[0m\n\u001b[0;32m    540\u001b[0m         AsyncResults.get from multiprocessing.\"\"\"\n\u001b[0;32m    541\u001b[0m         \u001b[1;32mtry\u001b[0m\u001b[1;33m:\u001b[0m\u001b[1;33m\u001b[0m\u001b[1;33m\u001b[0m\u001b[0m\n\u001b[1;32m--> 542\u001b[1;33m             \u001b[1;32mreturn\u001b[0m \u001b[0mfuture\u001b[0m\u001b[1;33m.\u001b[0m\u001b[0mresult\u001b[0m\u001b[1;33m(\u001b[0m\u001b[0mtimeout\u001b[0m\u001b[1;33m=\u001b[0m\u001b[0mtimeout\u001b[0m\u001b[1;33m)\u001b[0m\u001b[1;33m\u001b[0m\u001b[1;33m\u001b[0m\u001b[0m\n\u001b[0m\u001b[0;32m    543\u001b[0m         \u001b[1;32mexcept\u001b[0m \u001b[0mCfTimeoutError\u001b[0m \u001b[1;32mas\u001b[0m \u001b[0me\u001b[0m\u001b[1;33m:\u001b[0m\u001b[1;33m\u001b[0m\u001b[1;33m\u001b[0m\u001b[0m\n\u001b[0;32m    544\u001b[0m             \u001b[1;32mraise\u001b[0m \u001b[0mTimeoutError\u001b[0m \u001b[1;32mfrom\u001b[0m \u001b[0me\u001b[0m\u001b[1;33m\u001b[0m\u001b[1;33m\u001b[0m\u001b[0m\n",
      "\u001b[1;32m~\\anaconda3\\lib\\concurrent\\futures\\_base.py\u001b[0m in \u001b[0;36mresult\u001b[1;34m(self, timeout)\u001b[0m\n\u001b[0;32m    437\u001b[0m                 \u001b[1;32mraise\u001b[0m \u001b[0mCancelledError\u001b[0m\u001b[1;33m(\u001b[0m\u001b[1;33m)\u001b[0m\u001b[1;33m\u001b[0m\u001b[1;33m\u001b[0m\u001b[0m\n\u001b[0;32m    438\u001b[0m             \u001b[1;32melif\u001b[0m \u001b[0mself\u001b[0m\u001b[1;33m.\u001b[0m\u001b[0m_state\u001b[0m \u001b[1;33m==\u001b[0m \u001b[0mFINISHED\u001b[0m\u001b[1;33m:\u001b[0m\u001b[1;33m\u001b[0m\u001b[1;33m\u001b[0m\u001b[0m\n\u001b[1;32m--> 439\u001b[1;33m                 \u001b[1;32mreturn\u001b[0m \u001b[0mself\u001b[0m\u001b[1;33m.\u001b[0m\u001b[0m__get_result\u001b[0m\u001b[1;33m(\u001b[0m\u001b[1;33m)\u001b[0m\u001b[1;33m\u001b[0m\u001b[1;33m\u001b[0m\u001b[0m\n\u001b[0m\u001b[0;32m    440\u001b[0m             \u001b[1;32melse\u001b[0m\u001b[1;33m:\u001b[0m\u001b[1;33m\u001b[0m\u001b[1;33m\u001b[0m\u001b[0m\n\u001b[0;32m    441\u001b[0m                 \u001b[1;32mraise\u001b[0m \u001b[0mTimeoutError\u001b[0m\u001b[1;33m(\u001b[0m\u001b[1;33m)\u001b[0m\u001b[1;33m\u001b[0m\u001b[1;33m\u001b[0m\u001b[0m\n",
      "\u001b[1;32m~\\anaconda3\\lib\\concurrent\\futures\\_base.py\u001b[0m in \u001b[0;36m__get_result\u001b[1;34m(self)\u001b[0m\n\u001b[0;32m    386\u001b[0m     \u001b[1;32mdef\u001b[0m \u001b[0m__get_result\u001b[0m\u001b[1;33m(\u001b[0m\u001b[0mself\u001b[0m\u001b[1;33m)\u001b[0m\u001b[1;33m:\u001b[0m\u001b[1;33m\u001b[0m\u001b[1;33m\u001b[0m\u001b[0m\n\u001b[0;32m    387\u001b[0m         \u001b[1;32mif\u001b[0m \u001b[0mself\u001b[0m\u001b[1;33m.\u001b[0m\u001b[0m_exception\u001b[0m\u001b[1;33m:\u001b[0m\u001b[1;33m\u001b[0m\u001b[1;33m\u001b[0m\u001b[0m\n\u001b[1;32m--> 388\u001b[1;33m             \u001b[1;32mraise\u001b[0m \u001b[0mself\u001b[0m\u001b[1;33m.\u001b[0m\u001b[0m_exception\u001b[0m\u001b[1;33m\u001b[0m\u001b[1;33m\u001b[0m\u001b[0m\n\u001b[0m\u001b[0;32m    389\u001b[0m         \u001b[1;32melse\u001b[0m\u001b[1;33m:\u001b[0m\u001b[1;33m\u001b[0m\u001b[1;33m\u001b[0m\u001b[0m\n\u001b[0;32m    390\u001b[0m             \u001b[1;32mreturn\u001b[0m \u001b[0mself\u001b[0m\u001b[1;33m.\u001b[0m\u001b[0m_result\u001b[0m\u001b[1;33m\u001b[0m\u001b[1;33m\u001b[0m\u001b[0m\n",
      "\u001b[1;31mValueError\u001b[0m: multiclass format is not supported"
     ]
    }
   ],
   "source": [
    "from sklearn.model_selection import RandomizedSearchCV\n",
    "params = {\n",
    "    'learning_rate':[0.05,0.1,0.15,0.2,0.25,0.3],\n",
    "    'max_depth'    :[1,2,3,4,5,6,7,8,9,10],\n",
    "    'min_child_weight':[1,3,5,7],\n",
    "    'colsample_bytree':[0.3,0.4,0.5,0.6,0.7],\n",
    "    'gamma':[0.0,0.1,0.2,0.3,0.4,0.5]\n",
    "}\n",
    "random_cv = RandomizedSearchCV(XGBClassifier(), param_distributions=params, n_iter=5, scoring=\"roc_auc\", n_jobs=-1, cv=5, verbose=3)\n",
    "random_cv.fit(x_train_reduced, y_train)\n",
    "random_cv.best_estimator_"
   ]
  },
  {
   "cell_type": "code",
   "execution_count": 35,
   "metadata": {},
   "outputs": [
    {
     "name": "stdout",
     "output_type": "stream",
     "text": [
      "              precision    recall  f1-score   support\n",
      "\n",
      "           1       1.00      1.00      1.00     11411\n",
      "           2       0.97      0.96      0.96     11192\n",
      "           3       0.96      0.97      0.96     11292\n",
      "\n",
      "    accuracy                           0.97     33895\n",
      "   macro avg       0.97      0.97      0.97     33895\n",
      "weighted avg       0.97      0.97      0.97     33895\n",
      "\n"
     ]
    }
   ],
   "source": [
    "report = classification_report(y_test, xg_boost.predict(x_test_reduced))\n",
    "print(report)"
   ]
  },
  {
   "cell_type": "markdown",
   "metadata": {},
   "source": [
    "### <font color='orange'> Voting Classifier"
   ]
  },
  {
   "cell_type": "markdown",
   "metadata": {},
   "source": [
    "We saw that are best models are- knn , random forest and xgboost. Lets combine them into a voting classifier( we will run A strong one and A week one and see if we can achieve an even greater result)"
   ]
  },
  {
   "cell_type": "markdown",
   "metadata": {},
   "source": [
    "<b> Soft voting "
   ]
  },
  {
   "cell_type": "code",
   "execution_count": 37,
   "metadata": {},
   "outputs": [
    {
     "name": "stdout",
     "output_type": "stream",
     "text": [
      "[19:24:07] WARNING: ..\\src\\learner.cc:1095: Starting in XGBoost 1.3.0, the default evaluation metric used with the objective 'multi:softprob' was changed from 'merror' to 'mlogloss'. Explicitly set eval_metric if you'd like to restore the old behavior.\n",
      "KNeighborsClassifier 0.9988306740598242\n",
      "RandomForestClassifier 0.9916261174606767\n",
      "[19:25:14] WARNING: ..\\src\\learner.cc:1095: Starting in XGBoost 1.3.0, the default evaluation metric used with the objective 'multi:softprob' was changed from 'merror' to 'mlogloss'. Explicitly set eval_metric if you'd like to restore the old behavior.\n",
      "XGBClassifier 0.9493040624646373\n",
      "[19:26:26] WARNING: ..\\src\\learner.cc:1095: Starting in XGBoost 1.3.0, the default evaluation metric used with the objective 'multi:softprob' was changed from 'merror' to 'mlogloss'. Explicitly set eval_metric if you'd like to restore the old behavior.\n",
      "VotingClassifier 0.9975859077364113\n"
     ]
    }
   ],
   "source": [
    "from sklearn.ensemble import VotingClassifier\n",
    "from sklearn.metrics import accuracy_score\n",
    "voting_clf = VotingClassifier(\n",
    " estimators=[('knn', knn_clf), ('rf', model_rf), ('xgb', xg_boost)],\n",
    " voting='soft')\n",
    "voting_clf.fit(x_train_reduced, y_train)\n",
    "for clf in (knn_clf, model_rf, xg_boost,voting_clf):\n",
    "     clf.fit(x_train_reduced, y_train)\n",
    "     y_pred = clf.predict(x_test_reduced)\n",
    "     print(clf.__class__.__name__, accuracy_score(y_test, y_pred))"
   ]
  },
  {
   "cell_type": "code",
   "execution_count": 38,
   "metadata": {},
   "outputs": [
    {
     "name": "stdout",
     "output_type": "stream",
     "text": [
      "              precision    recall  f1-score   support\n",
      "\n",
      "           1       1.00      1.00      1.00      8046\n",
      "           2       1.00      1.00      1.00      9192\n",
      "           3       1.00      1.00      1.00      9273\n",
      "\n",
      "    accuracy                           1.00     26511\n",
      "   macro avg       1.00      1.00      1.00     26511\n",
      "weighted avg       1.00      1.00      1.00     26511\n",
      "\n"
     ]
    }
   ],
   "source": [
    "report = classification_report(y_test, voting_clf.predict(x_test_reduced))\n",
    "print(report)"
   ]
  },
  {
   "cell_type": "markdown",
   "metadata": {},
   "source": [
    "<b> Hard voting"
   ]
  },
  {
   "cell_type": "code",
   "execution_count": 39,
   "metadata": {},
   "outputs": [
    {
     "name": "stdout",
     "output_type": "stream",
     "text": [
      "[19:27:58] WARNING: ..\\src\\learner.cc:1095: Starting in XGBoost 1.3.0, the default evaluation metric used with the objective 'multi:softprob' was changed from 'merror' to 'mlogloss'. Explicitly set eval_metric if you'd like to restore the old behavior.\n",
      "KNeighborsClassifier 0.9988306740598242\n",
      "RandomForestClassifier 0.9916261174606767\n",
      "[19:29:21] WARNING: ..\\src\\learner.cc:1095: Starting in XGBoost 1.3.0, the default evaluation metric used with the objective 'multi:softprob' was changed from 'merror' to 'mlogloss'. Explicitly set eval_metric if you'd like to restore the old behavior.\n",
      "XGBClassifier 0.9493040624646373\n",
      "[19:31:18] WARNING: ..\\src\\learner.cc:1095: Starting in XGBoost 1.3.0, the default evaluation metric used with the objective 'multi:softprob' was changed from 'merror' to 'mlogloss'. Explicitly set eval_metric if you'd like to restore the old behavior.\n",
      "VotingClassifier 0.9927577232092339\n"
     ]
    }
   ],
   "source": [
    "from sklearn.ensemble import VotingClassifier\n",
    "from sklearn.metrics import accuracy_score\n",
    "voting_clf_h = VotingClassifier(\n",
    " estimators=[('knn', knn_clf), ('rf', model_rf), ('xgb', xg_boost)],\n",
    " voting='hard')\n",
    "voting_clf_h.fit(x_train_reduced, y_train)\n",
    "for clf in (knn_clf, model_rf, xg_boost,voting_clf_h):\n",
    "     clf.fit(x_train_reduced, y_train)\n",
    "     y_pred = clf.predict(x_test_reduced)\n",
    "     print(clf.__class__.__name__, accuracy_score(y_test, y_pred))"
   ]
  },
  {
   "cell_type": "code",
   "execution_count": 40,
   "metadata": {},
   "outputs": [
    {
     "name": "stdout",
     "output_type": "stream",
     "text": [
      "              precision    recall  f1-score   support\n",
      "\n",
      "           1       1.00      1.00      1.00      8046\n",
      "           2       0.99      0.99      0.99      9192\n",
      "           3       0.99      0.99      0.99      9273\n",
      "\n",
      "    accuracy                           0.99     26511\n",
      "   macro avg       0.99      0.99      0.99     26511\n",
      "weighted avg       0.99      0.99      0.99     26511\n",
      "\n"
     ]
    }
   ],
   "source": [
    "report = classification_report(y_test, voting_clf_h.predict(x_test_reduced))\n",
    "print(report)"
   ]
  },
  {
   "cell_type": "markdown",
   "metadata": {},
   "source": [
    "### <font color='orange'> Stacking"
   ]
  },
  {
   "cell_type": "code",
   "execution_count": 55,
   "metadata": {},
   "outputs": [
    {
     "name": "stdout",
     "output_type": "stream",
     "text": [
      "[00:48:08] WARNING: ..\\src\\learner.cc:1095: Starting in XGBoost 1.3.0, the default evaluation metric used with the objective 'multi:softprob' was changed from 'merror' to 'mlogloss'. Explicitly set eval_metric if you'd like to restore the old behavior.\n",
      "[00:53:19] WARNING: ..\\src\\learner.cc:1095: Starting in XGBoost 1.3.0, the default evaluation metric used with the objective 'multi:softprob' was changed from 'merror' to 'mlogloss'. Explicitly set eval_metric if you'd like to restore the old behavior.\n",
      "[00:53:53] WARNING: ..\\src\\learner.cc:1095: Starting in XGBoost 1.3.0, the default evaluation metric used with the objective 'multi:softprob' was changed from 'merror' to 'mlogloss'. Explicitly set eval_metric if you'd like to restore the old behavior.\n",
      "[00:54:28] WARNING: ..\\src\\learner.cc:1095: Starting in XGBoost 1.3.0, the default evaluation metric used with the objective 'multi:softprob' was changed from 'merror' to 'mlogloss'. Explicitly set eval_metric if you'd like to restore the old behavior.\n",
      "[00:55:03] WARNING: ..\\src\\learner.cc:1095: Starting in XGBoost 1.3.0, the default evaluation metric used with the objective 'multi:softprob' was changed from 'merror' to 'mlogloss'. Explicitly set eval_metric if you'd like to restore the old behavior.\n",
      "[00:55:37] WARNING: ..\\src\\learner.cc:1095: Starting in XGBoost 1.3.0, the default evaluation metric used with the objective 'multi:softprob' was changed from 'merror' to 'mlogloss'. Explicitly set eval_metric if you'd like to restore the old behavior.\n",
      "[00:56:13] WARNING: ..\\src\\learner.cc:1095: Starting in XGBoost 1.3.0, the default evaluation metric used with the objective 'multi:softprob' was changed from 'merror' to 'mlogloss'. Explicitly set eval_metric if you'd like to restore the old behavior.\n"
     ]
    },
    {
     "data": {
      "text/plain": [
       "0.9984911923352571"
      ]
     },
     "execution_count": 55,
     "metadata": {},
     "output_type": "execute_result"
    }
   ],
   "source": [
    "estimators = [\n",
    "    ('knn' , knn_clf),\n",
    "    ('rf', model_rf),\n",
    "    ('xgb' , xg_boost)\n",
    "]\n",
    "stc = StackingClassifier(\n",
    "    estimators=estimators, final_estimator=xg_boost\n",
    ")\n",
    "stc.fit(x_train_reduced,y_train)\n",
    "stc.score(x_test_reduced, y_test)"
   ]
  },
  {
   "cell_type": "code",
   "execution_count": 77,
   "metadata": {},
   "outputs": [
    {
     "name": "stdout",
     "output_type": "stream",
     "text": [
      "              precision    recall  f1-score   support\n",
      "\n",
      "           1       1.00      1.00      1.00      8046\n",
      "           2       1.00      1.00      1.00      9192\n",
      "           3       1.00      1.00      1.00      9273\n",
      "\n",
      "    accuracy                           1.00     26511\n",
      "   macro avg       1.00      1.00      1.00     26511\n",
      "weighted avg       1.00      1.00      1.00     26511\n",
      "\n"
     ]
    }
   ],
   "source": [
    "report = classification_report(y_test, stc.predict(x_test_reduced))\n",
    "print(report)"
   ]
  },
  {
   "cell_type": "markdown",
   "metadata": {},
   "source": [
    "### <font color='orange'> Bagging"
   ]
  },
  {
   "cell_type": "code",
   "execution_count": 56,
   "metadata": {},
   "outputs": [
    {
     "data": {
      "text/plain": [
       "0.9718984572441628"
      ]
     },
     "execution_count": 56,
     "metadata": {},
     "output_type": "execute_result"
    }
   ],
   "source": [
    "bag_clf = BaggingClassifier(\n",
    " xg_boost, n_estimators=30,\n",
    " random_state=40, bootstrap_features=True, n_jobs=-1)\n",
    "bag_clf.fit(x_train_reduced, y_train)\n",
    "bag_clf.score(x_test_reduced, y_test)"
   ]
  },
  {
   "cell_type": "markdown",
   "metadata": {},
   "source": [
    "## Finally we check the original test set which we haven't touched "
   ]
  },
  {
   "cell_type": "code",
   "execution_count": 19,
   "metadata": {},
   "outputs": [
    {
     "data": {
      "text/html": [
       "<div>\n",
       "<style scoped>\n",
       "    .dataframe tbody tr th:only-of-type {\n",
       "        vertical-align: middle;\n",
       "    }\n",
       "\n",
       "    .dataframe tbody tr th {\n",
       "        vertical-align: top;\n",
       "    }\n",
       "\n",
       "    .dataframe thead th {\n",
       "        text-align: right;\n",
       "    }\n",
       "</style>\n",
       "<table border=\"1\" class=\"dataframe\">\n",
       "  <thead>\n",
       "    <tr style=\"text-align: right;\">\n",
       "      <th></th>\n",
       "      <th>Experiment_x</th>\n",
       "      <th>Position X_x</th>\n",
       "      <th>Position Y_x</th>\n",
       "      <th>Position Z_x</th>\n",
       "      <th>Velocity X_x</th>\n",
       "      <th>Velocity Y_x</th>\n",
       "      <th>Velocity Z_x</th>\n",
       "      <th>Pitch_x</th>\n",
       "      <th>Roll_x</th>\n",
       "      <th>Yaw_x</th>\n",
       "      <th>...</th>\n",
       "      <th>Yaw_y</th>\n",
       "      <th>Wrist Pos X_y</th>\n",
       "      <th>Wrist Pos Y_y</th>\n",
       "      <th>Wrist Pos Z_y</th>\n",
       "      <th>Elbow pos X_y</th>\n",
       "      <th>Elbow Pos Y_y</th>\n",
       "      <th>Elbow Pos Z_y</th>\n",
       "      <th>Grab Strenth_y</th>\n",
       "      <th>Grab Angle_y</th>\n",
       "      <th>Pinch Strength_y</th>\n",
       "    </tr>\n",
       "  </thead>\n",
       "  <tbody>\n",
       "    <tr>\n",
       "      <th>0</th>\n",
       "      <td>1</td>\n",
       "      <td>-43.40731</td>\n",
       "      <td>221.9551</td>\n",
       "      <td>37.75341</td>\n",
       "      <td>51.21812</td>\n",
       "      <td>82.001560</td>\n",
       "      <td>10.944650</td>\n",
       "      <td>-0.263125</td>\n",
       "      <td>-0.045244</td>\n",
       "      <td>1.247732</td>\n",
       "      <td>...</td>\n",
       "      <td>-0.277800</td>\n",
       "      <td>46.88831</td>\n",
       "      <td>207.3548</td>\n",
       "      <td>86.23589</td>\n",
       "      <td>203.8337</td>\n",
       "      <td>49.33507</td>\n",
       "      <td>237.4553</td>\n",
       "      <td>0.0</td>\n",
       "      <td>0.206389</td>\n",
       "      <td>0.0</td>\n",
       "    </tr>\n",
       "    <tr>\n",
       "      <th>0</th>\n",
       "      <td>1</td>\n",
       "      <td>-89.46551</td>\n",
       "      <td>282.5517</td>\n",
       "      <td>104.14670</td>\n",
       "      <td>59.47731</td>\n",
       "      <td>-222.840100</td>\n",
       "      <td>114.072300</td>\n",
       "      <td>2.621086</td>\n",
       "      <td>-0.292849</td>\n",
       "      <td>2.138864</td>\n",
       "      <td>...</td>\n",
       "      <td>-0.277800</td>\n",
       "      <td>46.88831</td>\n",
       "      <td>207.3548</td>\n",
       "      <td>86.23589</td>\n",
       "      <td>203.8337</td>\n",
       "      <td>49.33507</td>\n",
       "      <td>237.4553</td>\n",
       "      <td>0.0</td>\n",
       "      <td>0.206389</td>\n",
       "      <td>0.0</td>\n",
       "    </tr>\n",
       "    <tr>\n",
       "      <th>0</th>\n",
       "      <td>1</td>\n",
       "      <td>-83.30872</td>\n",
       "      <td>250.9131</td>\n",
       "      <td>20.22863</td>\n",
       "      <td>-112.71060</td>\n",
       "      <td>2.005553</td>\n",
       "      <td>15.834790</td>\n",
       "      <td>0.827742</td>\n",
       "      <td>0.552296</td>\n",
       "      <td>0.787013</td>\n",
       "      <td>...</td>\n",
       "      <td>-0.277800</td>\n",
       "      <td>46.88831</td>\n",
       "      <td>207.3548</td>\n",
       "      <td>86.23589</td>\n",
       "      <td>203.8337</td>\n",
       "      <td>49.33507</td>\n",
       "      <td>237.4553</td>\n",
       "      <td>0.0</td>\n",
       "      <td>0.206389</td>\n",
       "      <td>0.0</td>\n",
       "    </tr>\n",
       "    <tr>\n",
       "      <th>1</th>\n",
       "      <td>1</td>\n",
       "      <td>-89.09656</td>\n",
       "      <td>278.4751</td>\n",
       "      <td>105.77440</td>\n",
       "      <td>-13.31818</td>\n",
       "      <td>-215.477900</td>\n",
       "      <td>72.303980</td>\n",
       "      <td>2.666370</td>\n",
       "      <td>-0.231436</td>\n",
       "      <td>2.083469</td>\n",
       "      <td>...</td>\n",
       "      <td>-0.277763</td>\n",
       "      <td>47.54861</td>\n",
       "      <td>205.6568</td>\n",
       "      <td>86.42250</td>\n",
       "      <td>203.9553</td>\n",
       "      <td>47.88272</td>\n",
       "      <td>238.4482</td>\n",
       "      <td>0.0</td>\n",
       "      <td>0.243050</td>\n",
       "      <td>0.0</td>\n",
       "    </tr>\n",
       "    <tr>\n",
       "      <th>1</th>\n",
       "      <td>1</td>\n",
       "      <td>-42.35703</td>\n",
       "      <td>223.1196</td>\n",
       "      <td>37.79170</td>\n",
       "      <td>62.37499</td>\n",
       "      <td>69.161640</td>\n",
       "      <td>2.274133</td>\n",
       "      <td>-0.165670</td>\n",
       "      <td>-0.012230</td>\n",
       "      <td>1.243217</td>\n",
       "      <td>...</td>\n",
       "      <td>-0.277763</td>\n",
       "      <td>47.54861</td>\n",
       "      <td>205.6568</td>\n",
       "      <td>86.42250</td>\n",
       "      <td>203.9553</td>\n",
       "      <td>47.88272</td>\n",
       "      <td>238.4482</td>\n",
       "      <td>0.0</td>\n",
       "      <td>0.243050</td>\n",
       "      <td>0.0</td>\n",
       "    </tr>\n",
       "  </tbody>\n",
       "</table>\n",
       "<p>5 rows × 37 columns</p>\n",
       "</div>"
      ],
      "text/plain": [
       "  Experiment_x   Position X_x   Position Y_x   Position Z_x   Velocity X_x  \\\n",
       "0            1      -43.40731       221.9551       37.75341       51.21812   \n",
       "0            1      -89.46551       282.5517      104.14670       59.47731   \n",
       "0            1      -83.30872       250.9131       20.22863     -112.71060   \n",
       "1            1      -89.09656       278.4751      105.77440      -13.31818   \n",
       "1            1      -42.35703       223.1196       37.79170       62.37499   \n",
       "\n",
       "    Velocity Y_x   Velocity Z_x   Pitch_x    Roll_x     Yaw_x  ...     Yaw_y  \\\n",
       "0      82.001560      10.944650 -0.263125 -0.045244  1.247732  ... -0.277800   \n",
       "0    -222.840100     114.072300  2.621086 -0.292849  2.138864  ... -0.277800   \n",
       "0       2.005553      15.834790  0.827742  0.552296  0.787013  ... -0.277800   \n",
       "1    -215.477900      72.303980  2.666370 -0.231436  2.083469  ... -0.277763   \n",
       "1      69.161640       2.274133 -0.165670 -0.012230  1.243217  ... -0.277763   \n",
       "\n",
       "    Wrist Pos X_y   Wrist Pos Y_y   Wrist Pos Z_y   Elbow pos X_y  \\\n",
       "0        46.88831        207.3548        86.23589        203.8337   \n",
       "0        46.88831        207.3548        86.23589        203.8337   \n",
       "0        46.88831        207.3548        86.23589        203.8337   \n",
       "1        47.54861        205.6568        86.42250        203.9553   \n",
       "1        47.54861        205.6568        86.42250        203.9553   \n",
       "\n",
       "    Elbow Pos Y_y   Elbow Pos Z_y   Grab Strenth_y   Grab Angle_y  \\\n",
       "0        49.33507        237.4553              0.0       0.206389   \n",
       "0        49.33507        237.4553              0.0       0.206389   \n",
       "0        49.33507        237.4553              0.0       0.206389   \n",
       "1        47.88272        238.4482              0.0       0.243050   \n",
       "1        47.88272        238.4482              0.0       0.243050   \n",
       "\n",
       "    Pinch Strength_y  \n",
       "0                0.0  \n",
       "0                0.0  \n",
       "0                0.0  \n",
       "1                0.0  \n",
       "1                0.0  \n",
       "\n",
       "[5 rows x 37 columns]"
      ]
     },
     "execution_count": 19,
     "metadata": {},
     "output_type": "execute_result"
    }
   ],
   "source": [
    "test.head()"
   ]
  },
  {
   "cell_type": "code",
   "execution_count": 20,
   "metadata": {},
   "outputs": [],
   "source": [
    "y_original_test = test['Experiment_x'].values\n",
    "X_test = test.drop(columns = ['Experiment_x'])"
   ]
  },
  {
   "cell_type": "code",
   "execution_count": 21,
   "metadata": {},
   "outputs": [],
   "source": [
    "X= df.drop(['Experiment_x'],axis=1)\n",
    "y=df['Experiment_x']"
   ]
  },
  {
   "cell_type": "code",
   "execution_count": 22,
   "metadata": {},
   "outputs": [
    {
     "name": "stdout",
     "output_type": "stream",
     "text": [
      " Shape of x_train =  (61858, 36)\n",
      " Shape of x_test =  (26511, 36)\n",
      " Shape of y_train =  (61858,)\n",
      " Shape of y_test =  (26511,)\n"
     ]
    }
   ],
   "source": [
    "x_train, x_test, y_train, y_test = train_test_split(X, y, test_size=0.3, random_state=120)\n",
    "print(\" Shape of x_train = \", x_train.shape)\n",
    "print(\" Shape of x_test = \", x_test.shape)\n",
    "print(\" Shape of y_train = \", y_train.shape)\n",
    "print(\" Shape of y_test = \", y_test.shape)"
   ]
  },
  {
   "cell_type": "code",
   "execution_count": 23,
   "metadata": {},
   "outputs": [],
   "source": [
    "scale_pipeline = Pipeline([\n",
    " (\"std_scaler\", StandardScaler()),\n",
    " (\"pca\", PCA(n_components=0.99, random_state=0,svd_solver='full')),\n",
    "])\n",
    "x_train_scale = scale_pipeline.fit_transform(x_train)\n",
    "x_test_scale = scale_pipeline.transform(x_test)\n",
    "O_X_test = scale_pipeline.transform(X_test)"
   ]
  },
  {
   "cell_type": "code",
   "execution_count": 25,
   "metadata": {},
   "outputs": [
    {
     "data": {
      "text/plain": [
       "0.8534855150001982"
      ]
     },
     "execution_count": 25,
     "metadata": {},
     "output_type": "execute_result"
    }
   ],
   "source": [
    "knn_clf =  KNeighborsClassifier(n_neighbors=2,weights='distance',n_jobs=-1)\n",
    "\n",
    "knn_clf.fit(x_train_scale,y_train)\n",
    "knn_clf.score(O_X_test,y_original_test)"
   ]
  },
  {
   "cell_type": "code",
   "execution_count": 43,
   "metadata": {},
   "outputs": [
    {
     "name": "stdout",
     "output_type": "stream",
     "text": [
      "[22:12:30] WARNING: ..\\src\\learner.cc:1095: Starting in XGBoost 1.3.0, the default evaluation metric used with the objective 'multi:softprob' was changed from 'merror' to 'mlogloss'. Explicitly set eval_metric if you'd like to restore the old behavior.\n",
      "[22:15:02] WARNING: ..\\src\\learner.cc:1095: Starting in XGBoost 1.3.0, the default evaluation metric used with the objective 'multi:softprob' was changed from 'merror' to 'mlogloss'. Explicitly set eval_metric if you'd like to restore the old behavior.\n",
      "[22:16:00] WARNING: ..\\src\\learner.cc:1095: Starting in XGBoost 1.3.0, the default evaluation metric used with the objective 'multi:softprob' was changed from 'merror' to 'mlogloss'. Explicitly set eval_metric if you'd like to restore the old behavior.\n",
      "[22:16:57] WARNING: ..\\src\\learner.cc:1095: Starting in XGBoost 1.3.0, the default evaluation metric used with the objective 'multi:softprob' was changed from 'merror' to 'mlogloss'. Explicitly set eval_metric if you'd like to restore the old behavior.\n",
      "[22:17:56] WARNING: ..\\src\\learner.cc:1095: Starting in XGBoost 1.3.0, the default evaluation metric used with the objective 'multi:softprob' was changed from 'merror' to 'mlogloss'. Explicitly set eval_metric if you'd like to restore the old behavior.\n",
      "[22:18:54] WARNING: ..\\src\\learner.cc:1095: Starting in XGBoost 1.3.0, the default evaluation metric used with the objective 'multi:softprob' was changed from 'merror' to 'mlogloss'. Explicitly set eval_metric if you'd like to restore the old behavior.\n",
      "[22:19:51] WARNING: ..\\src\\learner.cc:1095: Starting in XGBoost 1.3.0, the default evaluation metric used with the objective 'multi:softprob' was changed from 'merror' to 'mlogloss'. Explicitly set eval_metric if you'd like to restore the old behavior.\n"
     ]
    },
    {
     "data": {
      "text/plain": [
       "0.8752823683271905"
      ]
     },
     "execution_count": 43,
     "metadata": {},
     "output_type": "execute_result"
    }
   ],
   "source": [
    "estimators = [\n",
    "    ('knn' , KNeighborsClassifier(n_jobs=-1)),\n",
    "    ('rf', RandomForestClassifier(n_estimators=100 , n_jobs = -1, random_state =42, \n",
    "                                  max_depth=50)),\n",
    "    ('xgb' , XGBClassifier(n_estimators = 150, n_jobs = -1))\n",
    "]\n",
    "stc = StackingClassifier(\n",
    "    estimators=estimators, final_estimator=XGBClassifier()\n",
    ")\n",
    "stc.fit(x_train_scale,y_train)\n",
    "stc.score(O_X_test, y_original_test)"
   ]
  },
  {
   "cell_type": "code",
   "execution_count": 41,
   "metadata": {},
   "outputs": [
    {
     "name": "stdout",
     "output_type": "stream",
     "text": [
      "[19:34:37] WARNING: ..\\src\\learner.cc:1095: Starting in XGBoost 1.3.0, the default evaluation metric used with the objective 'multi:softprob' was changed from 'merror' to 'mlogloss'. Explicitly set eval_metric if you'd like to restore the old behavior.\n",
      "KNeighborsClassifier 0.8534855150001982\n",
      "RandomForestClassifier 0.8706455831649031\n",
      "[19:36:11] WARNING: ..\\src\\learner.cc:1095: Starting in XGBoost 1.3.0, the default evaluation metric used with the objective 'multi:softprob' was changed from 'merror' to 'mlogloss'. Explicitly set eval_metric if you'd like to restore the old behavior.\n",
      "XGBClassifier 0.860420877422423\n",
      "[19:36:57] WARNING: ..\\src\\learner.cc:1095: Starting in XGBoost 1.3.0, the default evaluation metric used with the objective 'multi:softprob' was changed from 'merror' to 'mlogloss'. Explicitly set eval_metric if you'd like to restore the old behavior.\n",
      "VotingClassifier 0.8781754052233187\n"
     ]
    }
   ],
   "source": [
    "voting_clf = VotingClassifier(\n",
    " estimators = [\n",
    "    ('knn' , KNeighborsClassifier(n_jobs=-1)),\n",
    "    ('rf', RandomForestClassifier(n_estimators=100 , n_jobs = -1, random_state =42, \n",
    "                                  max_depth=50)),\n",
    "    ('xgb' , XGBClassifier(subsample=1 ,n_estimators = 150,min_child_weight=5,max_depth=3,learning_rate=0.2, gamma=2, n_jobs = -1,colsample_bytree=1))\n",
    "],\n",
    " voting='soft')\n",
    "voting_clf.fit(x_train_scale, y_train)\n",
    "for clf in (knn_clf, model_rf, xg_boost,voting_clf):\n",
    "     clf.fit(x_train_scale, y_train)\n",
    "     y_pred = clf.predict(O_X_test)\n",
    "     print(clf.__class__.__name__, accuracy_score(y_original_test, y_pred))"
   ]
  },
  {
   "cell_type": "code",
   "execution_count": 46,
   "metadata": {},
   "outputs": [
    {
     "name": "stdout",
     "output_type": "stream",
     "text": [
      "[22:30:30] WARNING: ..\\src\\learner.cc:1095: Starting in XGBoost 1.3.0, the default evaluation metric used with the objective 'multi:softprob' was changed from 'merror' to 'mlogloss'. Explicitly set eval_metric if you'd like to restore the old behavior.\n"
     ]
    },
    {
     "data": {
      "text/plain": [
       "0.8717948717948718"
      ]
     },
     "execution_count": 46,
     "metadata": {},
     "output_type": "execute_result"
    }
   ],
   "source": [
    "xg_boost = XGBClassifier(n_estimators = 50, n_jobs = -1)\n",
    "xg_boost.fit(x_train_scale,y_train)\n",
    "xg_boost.score(O_X_test, y_original_test)"
   ]
  },
  {
   "cell_type": "code",
   "execution_count": null,
   "metadata": {},
   "outputs": [],
   "source": []
  }
 ],
 "metadata": {
  "kernelspec": {
   "display_name": "Python 3",
   "language": "python",
   "name": "python3"
  },
  "language_info": {
   "codemirror_mode": {
    "name": "ipython",
    "version": 3
   },
   "file_extension": ".py",
   "mimetype": "text/x-python",
   "name": "python",
   "nbconvert_exporter": "python",
   "pygments_lexer": "ipython3",
   "version": "3.8.3"
  }
 },
 "nbformat": 4,
 "nbformat_minor": 5
}
